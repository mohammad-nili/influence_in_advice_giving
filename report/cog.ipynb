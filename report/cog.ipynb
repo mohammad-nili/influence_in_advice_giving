{
 "cells": [
  {
   "cell_type": "code",
   "execution_count": 2,
   "metadata": {},
   "outputs": [],
   "source": [
    "import matplotlib.pyplot as plt\n",
    "from matplotlib import colors\n",
    "import numpy as np\n",
    "import pandas as pd"
   ]
  },
  {
   "cell_type": "code",
   "execution_count": 25,
   "metadata": {
    "scrolled": true
   },
   "outputs": [
    {
     "data": {
      "image/png": "[encoded data removed]",
      "text/plain": [
       "<Figure size 432x288 with 1 Axes>"
      ]
     },
     "metadata": {},
     "output_type": "display_data"
    },
    {
     "data": {
      "image/png": "[encoded data removed]",
      "text/plain": [
       "<Figure size 432x288 with 1 Axes>"
      ]
     },
     "metadata": {},
     "output_type": "display_data"
    },
    {
     "data": {
      "image/png": "[encoded data removed]",
      "text/plain": [
       "<Figure size 432x288 with 1 Axes>"
      ]
     },
     "metadata": {},
     "output_type": "display_data"
    },
    {
     "data": {
      "image/png": "[encoded data removed]",
      "text/plain": [
       "<Figure size 432x288 with 1 Axes>"
      ]
     },
     "metadata": {},
     "output_type": "display_data"
    },
    {
     "data": {
      "image/png": "[encoded data removed]",
      "text/plain": [
       "<Figure size 432x288 with 1 Axes>"
      ]
     },
     "metadata": {},
     "output_type": "display_data"
    },
    {
     "data": {
      "image/png": "[encoded data removed]",
      "text/plain": [
       "<Figure size 432x288 with 1 Axes>"
      ]
     },
     "metadata": {},
     "output_type": "display_data"
    },
    {
     "data": {
      "image/png": "[encoded data removed]",
      "text/plain": [
       "<Figure size 432x288 with 1 Axes>"
      ]
     },
     "metadata": {},
     "output_type": "display_data"
    },
    {
     "data": {
      "image/png": "[encoded data removed]",
      "text/plain": [
       "<Figure size 432x288 with 1 Axes>"
      ]
     },
     "metadata": {},
     "output_type": "display_data"
    },
    {
     "data": {
      "image/png": "[encoded data removed]",
      "text/plain": [
       "<Figure size 432x288 with 1 Axes>"
      ]
     },
     "metadata": {},
     "output_type": "display_data"
    },
    {
     "data": {
      "image/png": "[encoded data removed]",
      "text/plain": [
       "<Figure size 432x288 with 1 Axes>"
      ]
     },
     "metadata": {},
     "output_type": "display_data"
    },
    {
     "data": {
      "image/png": "[encoded data removed]",
      "text/plain": [
       "<Figure size 432x288 with 1 Axes>"
      ]
     },
     "metadata": {},
     "output_type": "display_data"
    },
    {
     "data": {
      "image/png": "[encoded data removed]",
      "text/plain": [
       "<Figure size 432x288 with 1 Axes>"
      ]
     },
     "metadata": {},
     "output_type": "display_data"
    },
    {
     "data": {
      "image/png": "[encoded data removed]",
      "text/plain": [
       "<Figure size 432x288 with 1 Axes>"
      ]
     },
     "metadata": {},
     "output_type": "display_data"
    },
    {
     "data": {
      "image/png": "[encoded data removed]",
      "text/plain": [
       "<Figure size 432x288 with 1 Axes>"
      ]
     },
     "metadata": {},
     "output_type": "display_data"
    },
    {
     "data": {
      "image/png": "[encoded data removed]",
      "text/plain": [
       "<Figure size 432x288 with 1 Axes>"
      ]
     },
     "metadata": {},
     "output_type": "display_data"
    },
    {
     "data": {
      "image/png": "[encoded data removed]",
      "text/plain": [
       "<Figure size 432x288 with 1 Axes>"
      ]
     },
     "metadata": {},
     "output_type": "display_data"
    },
    {
     "data": {
      "image/png": "[encoded data removed]",
      "text/plain": [
       "<Figure size 432x288 with 1 Axes>"
      ]
     },
     "metadata": {},
     "output_type": "display_data"
    },
    {
     "data": {
      "image/png": "[encoded data removed]",
      "text/plain": [
       "<Figure size 432x288 with 1 Axes>"
      ]
     },
     "metadata": {},
     "output_type": "display_data"
    },
    {
     "data": {
      "image/png": "[encoded data removed]",
      "text/plain": [
       "<Figure size 432x288 with 1 Axes>"
      ]
     },
     "metadata": {},
     "output_type": "display_data"
    },
    {
     "data": {
      "image/png": "[encoded data removed]",
      "text/plain": [
       "<Figure size 432x288 with 1 Axes>"
      ]
     },
     "metadata": {},
     "output_type": "display_data"
    }
   ],
   "source": [
    "df = pd.DataFrame(columns=['url','p_black','corrAns'])\n",
    "\n",
    "for i in range(0,20):\n",
    "    data   = np.random.rand(10, 10) * 20\n",
    "    \n",
    "    cmap   = colors.ListedColormap(['black', 'white'])\n",
    "    bounds = [0,10,20]\n",
    "    norm   = colors.BoundaryNorm(bounds, cmap.N)\n",
    "\n",
    "    plt.subplots()\n",
    "    plt.imshow(data, cmap=cmap, norm=norm)\n",
    "\n",
    "    # ________________________ draw gridlines _________________________________\n",
    "    plt.grid(which='major', axis='both', linestyle='-', color='k', linewidth=2)\n",
    "    plt.xticks(np.arange(-.5, 10, 1));\n",
    "    plt.yticks(np.arange(-.5, 10, 1));\n",
    "    plt.tick_params(bottom=False,left=False,labelleft=False,labelbottom=False)\n",
    "    \n",
    "    url         ='C:/Users/nili/Desktop/cog/images/'+str(i)+'.png'\n",
    "    p_black     = len(data[data<10])/100\n",
    "    corrAns     = np.random.choice(['b','w'], 1, p=[p_black,1-p_black])[0]\n",
    "    \n",
    "    df          = pd.DataFrame(np.insert(df.values, i, values=[url,p_black, corrAns], axis=0))\n",
    "    plt.savefig(url)\n",
    "\n",
    "df.columns = ['url','p_black','corrAns']\n",
    "df.to_excel('C:/Users/nili/Desktop/cog/dataframe.xlsx',index=False)"
   ]
  },
  {
   "cell_type": "code",
   "execution_count": 26,
   "metadata": {},
   "outputs": [
    {
     "data": {
      "text/html": [
       "<div>\n",
       "<style scoped>\n",
       "    .dataframe tbody tr th:only-of-type {\n",
       "        vertical-align: middle;\n",
       "    }\n",
       "\n",
       "    .dataframe tbody tr th {\n",
       "        vertical-align: top;\n",
       "    }\n",
       "\n",
       "    .dataframe thead th {\n",
       "        text-align: right;\n",
       "    }\n",
       "</style>\n",
       "<table border=\"1\" class=\"dataframe\">\n",
       "  <thead>\n",
       "    <tr style=\"text-align: right;\">\n",
       "      <th></th>\n",
       "      <th>url</th>\n",
       "      <th>p_black</th>\n",
       "      <th>corrAns</th>\n",
       "    </tr>\n",
       "  </thead>\n",
       "  <tbody>\n",
       "    <tr>\n",
       "      <th>0</th>\n",
       "      <td>C:/Users/nili/Desktop/cog/images/0.png</td>\n",
       "      <td>0.55</td>\n",
       "      <td>w</td>\n",
       "    </tr>\n",
       "    <tr>\n",
       "      <th>1</th>\n",
       "      <td>C:/Users/nili/Desktop/cog/images/1.png</td>\n",
       "      <td>0.45</td>\n",
       "      <td>w</td>\n",
       "    </tr>\n",
       "    <tr>\n",
       "      <th>2</th>\n",
       "      <td>C:/Users/nili/Desktop/cog/images/2.png</td>\n",
       "      <td>0.53</td>\n",
       "      <td>b</td>\n",
       "    </tr>\n",
       "    <tr>\n",
       "      <th>3</th>\n",
       "      <td>C:/Users/nili/Desktop/cog/images/3.png</td>\n",
       "      <td>0.52</td>\n",
       "      <td>b</td>\n",
       "    </tr>\n",
       "    <tr>\n",
       "      <th>4</th>\n",
       "      <td>C:/Users/nili/Desktop/cog/images/4.png</td>\n",
       "      <td>0.49</td>\n",
       "      <td>b</td>\n",
       "    </tr>\n",
       "    <tr>\n",
       "      <th>5</th>\n",
       "      <td>C:/Users/nili/Desktop/cog/images/5.png</td>\n",
       "      <td>0.54</td>\n",
       "      <td>w</td>\n",
       "    </tr>\n",
       "    <tr>\n",
       "      <th>6</th>\n",
       "      <td>C:/Users/nili/Desktop/cog/images/6.png</td>\n",
       "      <td>0.47</td>\n",
       "      <td>b</td>\n",
       "    </tr>\n",
       "    <tr>\n",
       "      <th>7</th>\n",
       "      <td>C:/Users/nili/Desktop/cog/images/7.png</td>\n",
       "      <td>0.46</td>\n",
       "      <td>w</td>\n",
       "    </tr>\n",
       "    <tr>\n",
       "      <th>8</th>\n",
       "      <td>C:/Users/nili/Desktop/cog/images/8.png</td>\n",
       "      <td>0.48</td>\n",
       "      <td>b</td>\n",
       "    </tr>\n",
       "    <tr>\n",
       "      <th>9</th>\n",
       "      <td>C:/Users/nili/Desktop/cog/images/9.png</td>\n",
       "      <td>0.47</td>\n",
       "      <td>w</td>\n",
       "    </tr>\n",
       "    <tr>\n",
       "      <th>10</th>\n",
       "      <td>C:/Users/nili/Desktop/cog/images/10.png</td>\n",
       "      <td>0.56</td>\n",
       "      <td>b</td>\n",
       "    </tr>\n",
       "    <tr>\n",
       "      <th>11</th>\n",
       "      <td>C:/Users/nili/Desktop/cog/images/11.png</td>\n",
       "      <td>0.53</td>\n",
       "      <td>b</td>\n",
       "    </tr>\n",
       "    <tr>\n",
       "      <th>12</th>\n",
       "      <td>C:/Users/nili/Desktop/cog/images/12.png</td>\n",
       "      <td>0.52</td>\n",
       "      <td>w</td>\n",
       "    </tr>\n",
       "    <tr>\n",
       "      <th>13</th>\n",
       "      <td>C:/Users/nili/Desktop/cog/images/13.png</td>\n",
       "      <td>0.47</td>\n",
       "      <td>w</td>\n",
       "    </tr>\n",
       "    <tr>\n",
       "      <th>14</th>\n",
       "      <td>C:/Users/nili/Desktop/cog/images/14.png</td>\n",
       "      <td>0.51</td>\n",
       "      <td>w</td>\n",
       "    </tr>\n",
       "    <tr>\n",
       "      <th>15</th>\n",
       "      <td>C:/Users/nili/Desktop/cog/images/15.png</td>\n",
       "      <td>0.61</td>\n",
       "      <td>w</td>\n",
       "    </tr>\n",
       "    <tr>\n",
       "      <th>16</th>\n",
       "      <td>C:/Users/nili/Desktop/cog/images/16.png</td>\n",
       "      <td>0.5</td>\n",
       "      <td>b</td>\n",
       "    </tr>\n",
       "    <tr>\n",
       "      <th>17</th>\n",
       "      <td>C:/Users/nili/Desktop/cog/images/17.png</td>\n",
       "      <td>0.39</td>\n",
       "      <td>b</td>\n",
       "    </tr>\n",
       "    <tr>\n",
       "      <th>18</th>\n",
       "      <td>C:/Users/nili/Desktop/cog/images/18.png</td>\n",
       "      <td>0.55</td>\n",
       "      <td>b</td>\n",
       "    </tr>\n",
       "    <tr>\n",
       "      <th>19</th>\n",
       "      <td>C:/Users/nili/Desktop/cog/images/19.png</td>\n",
       "      <td>0.53</td>\n",
       "      <td>w</td>\n",
       "    </tr>\n",
       "  </tbody>\n",
       "</table>\n",
       "</div>"
      ],
      "text/plain": [
       "                                        url p_black corrAns\n",
       "0    C:/Users/nili/Desktop/cog/images/0.png    0.55       w\n",
       "1    C:/Users/nili/Desktop/cog/images/1.png    0.45       w\n",
       "2    C:/Users/nili/Desktop/cog/images/2.png    0.53       b\n",
       "3    C:/Users/nili/Desktop/cog/images/3.png    0.52       b\n",
       "4    C:/Users/nili/Desktop/cog/images/4.png    0.49       b\n",
       "5    C:/Users/nili/Desktop/cog/images/5.png    0.54       w\n",
       "6    C:/Users/nili/Desktop/cog/images/6.png    0.47       b\n",
       "7    C:/Users/nili/Desktop/cog/images/7.png    0.46       w\n",
       "8    C:/Users/nili/Desktop/cog/images/8.png    0.48       b\n",
       "9    C:/Users/nili/Desktop/cog/images/9.png    0.47       w\n",
       "10  C:/Users/nili/Desktop/cog/images/10.png    0.56       b\n",
       "11  C:/Users/nili/Desktop/cog/images/11.png    0.53       b\n",
       "12  C:/Users/nili/Desktop/cog/images/12.png    0.52       w\n",
       "13  C:/Users/nili/Desktop/cog/images/13.png    0.47       w\n",
       "14  C:/Users/nili/Desktop/cog/images/14.png    0.51       w\n",
       "15  C:/Users/nili/Desktop/cog/images/15.png    0.61       w\n",
       "16  C:/Users/nili/Desktop/cog/images/16.png     0.5       b\n",
       "17  C:/Users/nili/Desktop/cog/images/17.png    0.39       b\n",
       "18  C:/Users/nili/Desktop/cog/images/18.png    0.55       b\n",
       "19  C:/Users/nili/Desktop/cog/images/19.png    0.53       w"
      ]
     },
     "execution_count": 26,
     "metadata": {},
     "output_type": "execute_result"
    }
   ],
   "source": [
    "df"
   ]
  }
 ],
 "metadata": {
  "kernelspec": {
   "display_name": "Python 3",
   "language": "python",
   "name": "python3"
  },
  "language_info": {
   "codemirror_mode": {
    "name": "ipython",
    "version": 3
   },
   "file_extension": ".py",
   "mimetype": "text/x-python",
   "name": "python",
   "nbconvert_exporter": "python",
   "pygments_lexer": "ipython3",
   "version": "3.8.3"
  }
 },
 "nbformat": 4,
 "nbformat_minor": 4
}
